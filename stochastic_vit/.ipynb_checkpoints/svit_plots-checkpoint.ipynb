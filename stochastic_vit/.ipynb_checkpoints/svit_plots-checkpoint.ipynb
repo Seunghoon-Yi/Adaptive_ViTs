{
 "cells": [
  {
   "cell_type": "code",
   "execution_count": 1,
   "id": "d02f4e6c",
   "metadata": {},
   "outputs": [
    {
     "data": {
      "text/html": [
       "<style>.container { width:100% !important; }</style>"
      ],
      "text/plain": [
       "<IPython.core.display.HTML object>"
      ]
     },
     "metadata": {},
     "output_type": "display_data"
    }
   ],
   "source": [
    "from IPython.core.display import display, HTML\n",
    "display(HTML(\"<style>.container { width:100% !important; }</style>\"))"
   ]
  },
  {
   "cell_type": "code",
   "execution_count": 3,
   "id": "c387e48f",
   "metadata": {},
   "outputs": [
    {
     "name": "stderr",
     "output_type": "stream",
     "text": [
      "/usr/local/lib/python3.8/dist-packages/scipy/__init__.py:146: UserWarning: A NumPy version >=1.16.5 and <1.23.0 is required for this version of SciPy (detected version 1.16.0\n",
      "  warnings.warn(f\"A NumPy version >={np_minversion} and <{np_maxversion}\"\n"
     ]
    },
    {
     "ename": "ModuleNotFoundError",
     "evalue": "No module named 'ml_collections'",
     "output_type": "error",
     "traceback": [
      "\u001b[0;31m---------------------------------------------------------------------------\u001b[0m",
      "\u001b[0;31mModuleNotFoundError\u001b[0m                       Traceback (most recent call last)",
      "\u001b[0;32m/tmp/ipykernel_2266773/2987975422.py\u001b[0m in \u001b[0;36m<module>\u001b[0;34m\u001b[0m\n\u001b[1;32m     13\u001b[0m \u001b[0;32mfrom\u001b[0m \u001b[0mtorchvision\u001b[0m \u001b[0;32mimport\u001b[0m \u001b[0mtransforms\u001b[0m\u001b[0;34m\u001b[0m\u001b[0;34m\u001b[0m\u001b[0m\n\u001b[1;32m     14\u001b[0m \u001b[0;34m\u001b[0m\u001b[0m\n\u001b[0;32m---> 15\u001b[0;31m \u001b[0;32mfrom\u001b[0m \u001b[0mmodels\u001b[0m\u001b[0;34m.\u001b[0m\u001b[0mmodeling\u001b[0m \u001b[0;32mimport\u001b[0m \u001b[0mVisionTransformer\u001b[0m\u001b[0;34m,\u001b[0m \u001b[0mCONFIGS\u001b[0m\u001b[0;34m\u001b[0m\u001b[0;34m\u001b[0m\u001b[0m\n\u001b[0m",
      "\u001b[0;32m/data/projects/repr_learning/stochastic_vit_sh/models/modeling.py\u001b[0m in \u001b[0;36m<module>\u001b[0;34m\u001b[0m\n\u001b[1;32m     19\u001b[0m \u001b[0;32mfrom\u001b[0m \u001b[0mscipy\u001b[0m \u001b[0;32mimport\u001b[0m \u001b[0mndimage\u001b[0m\u001b[0;34m\u001b[0m\u001b[0;34m\u001b[0m\u001b[0m\n\u001b[1;32m     20\u001b[0m \u001b[0;34m\u001b[0m\u001b[0m\n\u001b[0;32m---> 21\u001b[0;31m \u001b[0;32mimport\u001b[0m \u001b[0mmodels\u001b[0m\u001b[0;34m.\u001b[0m\u001b[0mconfigs\u001b[0m \u001b[0;32mas\u001b[0m \u001b[0mconfigs\u001b[0m\u001b[0;34m\u001b[0m\u001b[0;34m\u001b[0m\u001b[0m\n\u001b[0m\u001b[1;32m     22\u001b[0m \u001b[0;34m\u001b[0m\u001b[0m\n\u001b[1;32m     23\u001b[0m \u001b[0;32mfrom\u001b[0m \u001b[0;34m.\u001b[0m\u001b[0mmodeling_resnet\u001b[0m \u001b[0;32mimport\u001b[0m \u001b[0mResNetV2\u001b[0m\u001b[0;34m\u001b[0m\u001b[0;34m\u001b[0m\u001b[0m\n",
      "\u001b[0;32m/data/projects/repr_learning/stochastic_vit_sh/models/configs.py\u001b[0m in \u001b[0;36m<module>\u001b[0;34m\u001b[0m\n\u001b[1;32m     13\u001b[0m \u001b[0;31m# limitations under the License.\u001b[0m\u001b[0;34m\u001b[0m\u001b[0;34m\u001b[0m\u001b[0;34m\u001b[0m\u001b[0m\n\u001b[1;32m     14\u001b[0m \u001b[0;34m\u001b[0m\u001b[0m\n\u001b[0;32m---> 15\u001b[0;31m \u001b[0;32mimport\u001b[0m \u001b[0mml_collections\u001b[0m\u001b[0;34m\u001b[0m\u001b[0;34m\u001b[0m\u001b[0m\n\u001b[0m\u001b[1;32m     16\u001b[0m \u001b[0;34m\u001b[0m\u001b[0m\n\u001b[1;32m     17\u001b[0m \u001b[0;34m\u001b[0m\u001b[0m\n",
      "\u001b[0;31mModuleNotFoundError\u001b[0m: No module named 'ml_collections'"
     ]
    }
   ],
   "source": [
    "import typing\n",
    "import io\n",
    "import os\n",
    "\n",
    "import torch\n",
    "import numpy as np\n",
    "import cv2\n",
    "import matplotlib.pyplot as plt\n",
    "\n",
    "from urllib.request import urlretrieve\n",
    "\n",
    "from PIL import Image\n",
    "from torchvision import transforms\n",
    "\n",
    "from models.modeling import VisionTransformer, CONFIGS"
   ]
  },
  {
   "cell_type": "code",
   "execution_count": 147,
   "id": "631db6c7",
   "metadata": {},
   "outputs": [
    {
     "data": {
      "text/plain": [
       "VisionTransformer(\n",
       "  (transformer): Transformer(\n",
       "    (embeddings): Embeddings(\n",
       "      (patch_embeddings): Conv2d(3, 768, kernel_size=(4, 4), stride=(4, 4))\n",
       "      (dropout): Dropout(p=0.1, inplace=False)\n",
       "    )\n",
       "    (encoder): Encoder(\n",
       "      (layer): ModuleList(\n",
       "        (0): Block(\n",
       "          (attention_norm): LayerNorm((768,), eps=1e-06, elementwise_affine=True)\n",
       "          (ffn_norm): LayerNorm((768,), eps=1e-06, elementwise_affine=True)\n",
       "          (ffn): Mlp(\n",
       "            (fc1): Linear(in_features=768, out_features=3072, bias=True)\n",
       "            (fc2): Linear(in_features=3072, out_features=768, bias=True)\n",
       "            (dropout): Dropout(p=0.1, inplace=False)\n",
       "          )\n",
       "          (attn): StochasticAttention(\n",
       "            (query): Linear(in_features=768, out_features=768, bias=True)\n",
       "            (key): Linear(in_features=768, out_features=768, bias=True)\n",
       "            (value): Linear(in_features=768, out_features=768, bias=True)\n",
       "            (out): Linear(in_features=768, out_features=768, bias=True)\n",
       "            (attn_dropout): Dropout(p=0.0, inplace=False)\n",
       "            (proj_dropout): Dropout(p=0.0, inplace=False)\n",
       "            (softmax): Softmax(dim=-1)\n",
       "            (kernel): GaussianKernel(\n",
       "              (sigma_layer_1): Linear(in_features=768, out_features=64, bias=True)\n",
       "              (sigma_layer_2): Linear(in_features=64, out_features=1, bias=True)\n",
       "            )\n",
       "          )\n",
       "        )\n",
       "        (1): Block(\n",
       "          (attention_norm): LayerNorm((768,), eps=1e-06, elementwise_affine=True)\n",
       "          (ffn_norm): LayerNorm((768,), eps=1e-06, elementwise_affine=True)\n",
       "          (ffn): Mlp(\n",
       "            (fc1): Linear(in_features=768, out_features=3072, bias=True)\n",
       "            (fc2): Linear(in_features=3072, out_features=768, bias=True)\n",
       "            (dropout): Dropout(p=0.1, inplace=False)\n",
       "          )\n",
       "          (attn): StochasticAttention(\n",
       "            (query): Linear(in_features=768, out_features=768, bias=True)\n",
       "            (key): Linear(in_features=768, out_features=768, bias=True)\n",
       "            (value): Linear(in_features=768, out_features=768, bias=True)\n",
       "            (out): Linear(in_features=768, out_features=768, bias=True)\n",
       "            (attn_dropout): Dropout(p=0.0, inplace=False)\n",
       "            (proj_dropout): Dropout(p=0.0, inplace=False)\n",
       "            (softmax): Softmax(dim=-1)\n",
       "            (kernel): GaussianKernel(\n",
       "              (sigma_layer_1): Linear(in_features=768, out_features=64, bias=True)\n",
       "              (sigma_layer_2): Linear(in_features=64, out_features=1, bias=True)\n",
       "            )\n",
       "          )\n",
       "        )\n",
       "        (2): Block(\n",
       "          (attention_norm): LayerNorm((768,), eps=1e-06, elementwise_affine=True)\n",
       "          (ffn_norm): LayerNorm((768,), eps=1e-06, elementwise_affine=True)\n",
       "          (ffn): Mlp(\n",
       "            (fc1): Linear(in_features=768, out_features=3072, bias=True)\n",
       "            (fc2): Linear(in_features=3072, out_features=768, bias=True)\n",
       "            (dropout): Dropout(p=0.1, inplace=False)\n",
       "          )\n",
       "          (attn): StochasticAttention(\n",
       "            (query): Linear(in_features=768, out_features=768, bias=True)\n",
       "            (key): Linear(in_features=768, out_features=768, bias=True)\n",
       "            (value): Linear(in_features=768, out_features=768, bias=True)\n",
       "            (out): Linear(in_features=768, out_features=768, bias=True)\n",
       "            (attn_dropout): Dropout(p=0.0, inplace=False)\n",
       "            (proj_dropout): Dropout(p=0.0, inplace=False)\n",
       "            (softmax): Softmax(dim=-1)\n",
       "            (kernel): GaussianKernel(\n",
       "              (sigma_layer_1): Linear(in_features=768, out_features=64, bias=True)\n",
       "              (sigma_layer_2): Linear(in_features=64, out_features=1, bias=True)\n",
       "            )\n",
       "          )\n",
       "        )\n",
       "        (3): Block(\n",
       "          (attention_norm): LayerNorm((768,), eps=1e-06, elementwise_affine=True)\n",
       "          (ffn_norm): LayerNorm((768,), eps=1e-06, elementwise_affine=True)\n",
       "          (ffn): Mlp(\n",
       "            (fc1): Linear(in_features=768, out_features=3072, bias=True)\n",
       "            (fc2): Linear(in_features=3072, out_features=768, bias=True)\n",
       "            (dropout): Dropout(p=0.1, inplace=False)\n",
       "          )\n",
       "          (attn): StochasticAttention(\n",
       "            (query): Linear(in_features=768, out_features=768, bias=True)\n",
       "            (key): Linear(in_features=768, out_features=768, bias=True)\n",
       "            (value): Linear(in_features=768, out_features=768, bias=True)\n",
       "            (out): Linear(in_features=768, out_features=768, bias=True)\n",
       "            (attn_dropout): Dropout(p=0.0, inplace=False)\n",
       "            (proj_dropout): Dropout(p=0.0, inplace=False)\n",
       "            (softmax): Softmax(dim=-1)\n",
       "            (kernel): GaussianKernel(\n",
       "              (sigma_layer_1): Linear(in_features=768, out_features=64, bias=True)\n",
       "              (sigma_layer_2): Linear(in_features=64, out_features=1, bias=True)\n",
       "            )\n",
       "          )\n",
       "        )\n",
       "      )\n",
       "      (encoder_norm): LayerNorm((768,), eps=1e-06, elementwise_affine=True)\n",
       "    )\n",
       "  )\n",
       "  (head): Linear(in_features=768, out_features=10, bias=True)\n",
       ")"
      ]
     },
     "execution_count": 147,
     "metadata": {},
     "output_type": "execute_result"
    }
   ],
   "source": [
    "# Prepare Model\n",
    "config = CONFIGS[\"ViT-S_16\"]\n",
    "config['stochastic'] = True\n",
    "config['temperature'] = 0.1\n",
    "device = torch.device(\"cuda\")\n",
    "model = VisionTransformer(config, num_classes=10, zero_head=False, img_size=32, vis=True)\n",
    "#model.load_from(np.load(\"attention_data/ViT-B_16-224.npz\"))\n",
    "model.load_state_dict(torch.load('./output/svit_head1_layer4_cls_fixed_checkpoint.bin', map_location=\"cuda:0\"))\n",
    "model.to(device)\n",
    "model.eval()"
   ]
  },
  {
   "cell_type": "code",
   "execution_count": 160,
   "id": "250789b5",
   "metadata": {},
   "outputs": [],
   "source": [
    "image_path = \"img/bird1.jpg\""
   ]
  },
  {
   "cell_type": "code",
   "execution_count": 161,
   "id": "40462a79",
   "metadata": {},
   "outputs": [
    {
     "data": {
      "text/plain": [
       "torch.Size([3, 32, 32])"
      ]
     },
     "execution_count": 161,
     "metadata": {},
     "output_type": "execute_result"
    }
   ],
   "source": [
    "transform = transforms.Compose([\n",
    "    transforms.Resize((32, 32)),\n",
    "    transforms.ToTensor(),\n",
    "    transforms.Normalize(mean=[0.5, 0.5, 0.5], std=[0.5, 0.5, 0.5]),\n",
    "])\n",
    "img = Image.open(image_path)\n",
    "x = transform(img)\n",
    "x = x.to(torch.float32).to(\"cuda\")\n",
    "x.size()"
   ]
  },
  {
   "cell_type": "code",
   "execution_count": 162,
   "id": "bde6ae8f",
   "metadata": {},
   "outputs": [],
   "source": [
    "logits, att_mat, sigmas = model(x.unsqueeze(0))\n",
    "\n",
    "att_mat = np.stack(att_mat).squeeze(1)\n",
    "\n",
    "# Average the attention weights across all heads.\n",
    "att_mat = np.mean(att_mat, axis=1)\n",
    "\n",
    "# To account for residual connections, we add an identity matrix to the\n",
    "# attention matrix and re-normalize the weights.\n",
    "residual_att = np.eye(att_mat.shape[1])\n",
    "aug_att_mat = att_mat + residual_att\n",
    "aug_att_mat = aug_att_mat / np.expand_dims(aug_att_mat.sum(axis=-1), -1)\n",
    "\n",
    "# Recursively multiply the weight matrices\n",
    "joint_attentions = np.zeros(aug_att_mat.shape)\n",
    "joint_attentions[0] = aug_att_mat[0]\n",
    "\n",
    "for n in range(1, aug_att_mat.shape[0]):\n",
    "    joint_attentions[n] = np.matmul(aug_att_mat[n], joint_attentions[n-1])\n",
    "    \n",
    "# Attention from the output token to the input space.\n",
    "v = joint_attentions[-1]\n",
    "grid_size = int(np.sqrt(aug_att_mat.shape[-1]))\n",
    "mask = v[0, 1:].reshape(grid_size, grid_size)\n",
    "mask = cv2.resize(mask / mask.max(), img.size)[..., np.newaxis]\n",
    "result = (mask * img).astype(\"uint8\")"
   ]
  },
  {
   "cell_type": "code",
   "execution_count": 163,
   "id": "da276ea0",
   "metadata": {},
   "outputs": [
    {
     "name": "stdout",
     "output_type": "stream",
     "text": [
      "Prediction Label and Attention Map!\n",
      "\n",
      "0.99334:frog\n",
      "0.00644:bird\n",
      "0.00009:cat\n",
      "0.00007:deer\n",
      "0.00002:airplane\n"
     ]
    },
    {
     "data": {
      "image/png": "[encoded data removed]",
      "text/plain": [
       "<Figure size 576x576 with 2 Axes>"
      ]
     },
     "metadata": {},
     "output_type": "display_data"
    }
   ],
   "source": [
    "fig, (ax1, ax2) = plt.subplots(ncols=2, figsize=(8, 8))\n",
    "cifar10_labels = [\"airplane\", \"automobile\", \"bird\", \"cat\", \"deer\", \"dog\", \"frog\", \"horse\", \"ship\", \"truck\"]\n",
    "\n",
    "ax1.set_title('Original')\n",
    "ax2.set_title('Attention Map')\n",
    "_ = ax1.imshow(img)\n",
    "_ = ax2.imshow(result)\n",
    "\n",
    "probs = torch.nn.Softmax(dim=-1)(logits)\n",
    "top5 = torch.argsort(probs, dim=-1, descending=True)\n",
    "print(\"Prediction Label and Attention Map!\\n\")\n",
    "for idx in top5[0, :5]:\n",
    "    print(f'{probs[0, idx.item()]:.5f}:{cifar10_labels[idx.item()]}', end='\\n')"
   ]
  },
  {
   "cell_type": "code",
   "execution_count": 152,
   "id": "600688e7",
   "metadata": {},
   "outputs": [],
   "source": [
    "\"\"\"\n",
    "0 query_idx is for the classification token\n",
    "\"\"\"\n",
    "layer_idx = 0\n",
    "query_idx = 64"
   ]
  },
  {
   "cell_type": "code",
   "execution_count": 153,
   "id": "dc7085e9",
   "metadata": {},
   "outputs": [
    {
     "name": "stdout",
     "output_type": "stream",
     "text": [
      "( 0,  001.987) ( 1,  001.045) ( 2,  001.008) ( 3,  001.018) ( 4,  001.024) ( 5,  001.061) ( 6,  001.024) ( 7,  001.022) \n",
      "( 8,  001.018) ( 9,  001.006) (10,  001.022) (11,  001.005) (12,  001.006) (13,  001.015) (14,  001.005) (15,  001.008) \n",
      "(16,  001.008) (17,  001.021) (18,  001.033) (19,  001.025) (20,  001.051) (21,  001.032) (22,  001.017) (23,  001.029) \n",
      "(24,  001.028) (25,  001.004) (26,  001.002) (27,  001.013) (28,  001.230) (29,  001.043) (30,  001.052) (31,  001.044) \n",
      "(32,  001.009) (33,  001.001) (34,  001.000) (35,  001.003) (36,  001.060) (37,  001.001) (38,  001.001) (39,  001.001) \n",
      "(40,  001.001) (41,  001.002) (42,  001.003) (43,  001.001) (44,  001.008) (45,  001.003) (46,  001.003) (47,  001.012) \n",
      "(48,  001.001) (49,  001.001) (50,  001.001) (51,  001.001) (52,  001.000) (53,  001.001) (54,  001.001) (55,  001.003) \n",
      "(56,  001.001) (57,  001.003) (58,  001.009) (59,  001.001) (60,  001.002) (61,  001.001) (62,  001.001) (63,  001.001) \n",
      "(64,  001.001) "
     ]
    }
   ],
   "source": [
    "sigmas_temp = list(map(np.squeeze, sigmas))\n",
    "for idx, item in enumerate(sigmas_temp[layer_idx]):\n",
    "    print(f'({idx:2d}, {item: 08.3f})', end=' ')\n",
    "    if (idx+1)%8==0:\n",
    "        print()\n",
    "sigma = sigmas_temp[layer_idx][query_idx]"
   ]
  },
  {
   "cell_type": "code",
   "execution_count": 154,
   "id": "11b773c1",
   "metadata": {
    "scrolled": true
   },
   "outputs": [],
   "source": [
    "n_patches = 8*8\n",
    "n_rows = n_cols = int(np.sqrt(n_patches))\n",
    "rows, cols = np.indices((n_rows, n_cols))\n",
    "token_idxs = np.array(list(zip(rows.flatten(), cols.flatten())))\n",
    "dists = np.expand_dims(token_idxs, 1) - np.expand_dims(token_idxs,0)\n",
    "dists = np.pad(dists, ((1,0),(1,0),(0,0)), mode='constant', constant_values=0)\n",
    "dists = np.sum(dists**2, axis=-1)\n",
    "\n",
    "norm = 2*sigma**2\n",
    "kernel = np.exp(-1*dists/norm)\n",
    "\n",
    "probs = kernel / np.amax(kernel, axis=-1, keepdims=True)\n",
    "# the first element is always 1 as every token sees the classification token and this is omitted in the plot.\n",
    "probs_query = np.reshape(probs[query_idx, 1:], (n_rows, n_cols))\n",
    "probs_query_resized = cv2.resize(probs_query, dsize=(32, 32), interpolation=cv2.INTER_NEAREST)"
   ]
  },
  {
   "cell_type": "code",
   "execution_count": 155,
   "id": "35d7ffea",
   "metadata": {},
   "outputs": [
    {
     "data": {
      "image/png": "[encoded data removed]",
      "text/plain": [
       "<Figure size 432x288 with 2 Axes>"
      ]
     },
     "metadata": {},
     "output_type": "display_data"
    }
   ],
   "source": [
    "import matplotlib.cm\n",
    "from matplotlib.colors import LinearSegmentedColormap \n",
    "import matplotlib.image as mpimg \n",
    "import seaborn as sns; sns.set()\n",
    "\n",
    "map_img = mpimg.imread(image_path) \n",
    "hmax = sns.heatmap(probs_query_resized,\n",
    "            cmap=plt.cm.Reds,\n",
    "            alpha = 0.5,\n",
    "            annot = False,\n",
    "            zorder = 2,\n",
    "            )\n",
    "\n",
    "hmax.imshow(map_img,\n",
    "          aspect = hmax.get_aspect(),\n",
    "          extent = hmax.get_xlim() + hmax.get_ylim(),\n",
    "          zorder = 1) #put the map under the heatmap\n",
    "\n",
    "plt.show()"
   ]
  },
  {
   "cell_type": "code",
   "execution_count": 134,
   "id": "7fc5bf9e",
   "metadata": {},
   "outputs": [
    {
     "name": "stdout",
     "output_type": "stream",
     "text": [
      "[[0.    0.    0.    0.    0.    0.    0.    0.   ]\n",
      " [0.    0.    0.    0.    0.    0.    0.    0.   ]\n",
      " [0.    0.    0.    0.    0.    0.    0.    0.   ]\n",
      " [0.    0.    0.    0.    0.    0.    0.    0.   ]\n",
      " [0.    0.    0.    0.    0.    0.002 0.007 0.011]\n",
      " [0.    0.    0.    0.    0.002 0.018 0.082 0.136]\n",
      " [0.    0.    0.    0.    0.007 0.082 0.368 0.607]\n",
      " [0.    0.    0.    0.    0.011 0.136 0.607 1.   ]]\n"
     ]
    }
   ],
   "source": [
    "with np.printoptions(precision=3, suppress=True):\n",
    "    print(probs_query)"
   ]
  },
  {
   "cell_type": "code",
   "execution_count": 22,
   "id": "b802e058",
   "metadata": {},
   "outputs": [],
   "source": [
    "sigmas_rand = torch.tensor([1,5,-0.5]).repeat([3,1,65,1]).to(torch.float32)"
   ]
  },
  {
   "cell_type": "code",
   "execution_count": 23,
   "id": "9b29a14c",
   "metadata": {},
   "outputs": [
    {
     "name": "stdout",
     "output_type": "stream",
     "text": [
      "torch.Size([3, 1, 65, 2, 2])\n"
     ]
    }
   ],
   "source": [
    "a = torch.tensor([[1,0],[0,0]]).repeat([*sigmas_rand.shape[:-1], 1,1]) * sigmas_rand[...,0,None,None]**2\n",
    "b = torch.tensor([[0,0],[0,1]]).repeat([*sigmas_rand.shape[:-1], 1,1]) * sigmas_rand[...,1,None,None]**2\n",
    "c = torch.tensor([[0,1],[1,0]]).repeat([*sigmas_rand.shape[:-1], 1,1]) * sigmas_rand[...,2,None,None]*sigmas_rand[...,0,None,None]*sigmas_rand[...,1,None,None]\n",
    "sigmas_inverse = torch.linalg.pinv(a+b+c)\n",
    "print(sigmas_inverse.shape)"
   ]
  },
  {
   "cell_type": "code",
   "execution_count": 174,
   "id": "310bf4bd",
   "metadata": {},
   "outputs": [
    {
     "name": "stdout",
     "output_type": "stream",
     "text": [
      "[[5 5]\n",
      " [7 7]\n",
      " [7 6]\n",
      " [7 5]\n",
      " [7 4]\n",
      " [7 3]\n",
      " [7 2]\n",
      " [7 1]\n",
      " [7 0]\n",
      " [6 7]\n",
      " [6 6]\n",
      " [6 5]\n",
      " [6 4]\n",
      " [6 3]\n",
      " [6 2]\n",
      " [6 1]\n",
      " [6 0]\n",
      " [5 7]\n",
      " [5 6]\n",
      " [5 5]\n",
      " [5 4]\n",
      " [5 3]\n",
      " [5 2]\n",
      " [5 1]\n",
      " [5 0]\n",
      " [4 7]\n",
      " [4 6]\n",
      " [4 5]\n",
      " [4 4]\n",
      " [4 3]\n",
      " [4 2]\n",
      " [4 1]\n",
      " [4 0]\n",
      " [3 7]\n",
      " [3 6]\n",
      " [3 5]\n",
      " [3 4]\n",
      " [3 3]\n",
      " [3 2]\n",
      " [3 1]\n",
      " [3 0]\n",
      " [2 7]\n",
      " [2 6]\n",
      " [2 5]\n",
      " [2 4]\n",
      " [2 3]\n",
      " [2 2]\n",
      " [2 1]\n",
      " [2 0]\n",
      " [1 7]\n",
      " [1 6]\n",
      " [1 5]\n",
      " [1 4]\n",
      " [1 3]\n",
      " [1 2]\n",
      " [1 1]\n",
      " [1 0]\n",
      " [0 7]\n",
      " [0 6]\n",
      " [0 5]\n",
      " [0 4]\n",
      " [0 3]\n",
      " [0 2]\n",
      " [0 1]\n",
      " [0 0]]\n"
     ]
    }
   ],
   "source": [
    "n_patches = 8*8\n",
    "n_rows = n_cols = int(np.sqrt(n_patches))\n",
    "rows, cols = np.indices((n_rows, n_cols))\n",
    "token_idxs = np.array(list(zip(rows.flatten(), cols.flatten())))\n",
    "dists = np.expand_dims(token_idxs, 1) - np.expand_dims(token_idxs,0)\n",
    "dists = np.pad(dists, ((1,0),(1,0),(0,0)), mode='constant', constant_values=0)\n",
    "\n",
    "# kernel = torch.exp(-1/2 * (dists.permute([0,1,3,2]) @ sigma_inverse @ dists).squeeze())\n",
    "dists = torch.tensor(dists).to(torch.float32).repeat([3,1,1,1,1])\n",
    "dists = torch.unsqueeze(dists, -1)"
   ]
  },
  {
   "cell_type": "code",
   "execution_count": null,
   "id": "b0fb96b8",
   "metadata": {},
   "outputs": [],
   "source": []
  },
  {
   "cell_type": "code",
   "execution_count": 25,
   "id": "aadb0ccc",
   "metadata": {},
   "outputs": [
    {
     "name": "stdout",
     "output_type": "stream",
     "text": [
      "torch.Size([3, 1, 65, 65, 2, 2])\n"
     ]
    }
   ],
   "source": [
    "sigmas_inverse_temp = sigmas_inverse.unsqueeze(3).repeat([1,1,1,65,1,1])\n",
    "print(sigmas_inverse_temp.shape)"
   ]
  },
  {
   "cell_type": "code",
   "execution_count": 26,
   "id": "9d4dda55",
   "metadata": {},
   "outputs": [],
   "source": [
    "weights = -1/2 * torch.matmul(torch.matmul(dists.permute([0,1,2,3,5,4]), sigmas_inverse_temp), dists)\n",
    "weights = weights.view(weights.shape[:-2])\n",
    "weights_stable = weights - torch.amax(weights, dim=[-1], keepdim=True)\n",
    "kernel = torch.exp(weights_stable)"
   ]
  },
  {
   "cell_type": "code",
   "execution_count": 27,
   "id": "b6181f15",
   "metadata": {},
   "outputs": [],
   "source": [
    "probs = kernel / torch.amax(kernel, dim=[-1], keepdim=True)\n",
    "probs_query = np.reshape(probs[0,0, 30, 1:].numpy(), (n_rows, n_cols))\n",
    "probs_query_resized = cv2.resize(probs_query, dsize=(32, 32), interpolation=cv2.INTER_NEAREST)"
   ]
  },
  {
   "cell_type": "code",
   "execution_count": 679,
   "id": "96d12edc",
   "metadata": {},
   "outputs": [
    {
     "data": {
      "image/png": "[encoded data removed]",
      "text/plain": [
       "<Figure size 432x288 with 2 Axes>"
      ]
     },
     "metadata": {},
     "output_type": "display_data"
    }
   ],
   "source": [
    "import matplotlib.cm\n",
    "from matplotlib.colors import LinearSegmentedColormap \n",
    "import matplotlib.image as mpimg \n",
    "import seaborn as sns; sns.set()\n",
    "\n",
    "map_img = mpimg.imread(image_path) \n",
    "hmax = sns.heatmap(probs_query_resized,\n",
    "            cmap=plt.cm.Reds,\n",
    "            alpha = 0.5,\n",
    "            annot = False,\n",
    "            zorder = 2,\n",
    "            )\n",
    "\n",
    "hmax.imshow(map_img,\n",
    "          aspect = hmax.get_aspect(),\n",
    "          extent = hmax.get_xlim() + hmax.get_ylim(),\n",
    "          zorder = 1) #put the map under the heatmap\n",
    "\n",
    "plt.show()"
   ]
  },
  {
   "cell_type": "code",
   "execution_count": 664,
   "id": "e7483746",
   "metadata": {},
   "outputs": [
    {
     "name": "stdout",
     "output_type": "stream",
     "text": [
      "[[1. 0. 0. 0. 0. 0. 0. 0.]\n",
      " [0. 0. 0. 0. 0. 0. 0. 0.]\n",
      " [0. 0. 0. 0. 0. 0. 0. 0.]\n",
      " [0. 0. 0. 0. 0. 0. 0. 0.]\n",
      " [0. 0. 0. 0. 0. 0. 0. 0.]\n",
      " [0. 0. 0. 0. 0. 0. 0. 0.]\n",
      " [0. 0. 0. 0. 0. 0. 0. 0.]\n",
      " [0. 0. 0. 0. 0. 0. 0. 0.]]\n"
     ]
    }
   ],
   "source": [
    "with np.printoptions(precision=3, suppress=True):\n",
    "    print(probs_query)"
   ]
  },
  {
   "cell_type": "code",
   "execution_count": 665,
   "id": "39072062",
   "metadata": {},
   "outputs": [
    {
     "data": {
      "text/plain": [
       "tensor([[1.0000e+00, 1.0000e+00, 1.0000e+00,  ..., 1.0000e+00, 1.0000e+00,\n",
       "         1.0000e+00],\n",
       "        [0.0000e+00, 0.0000e+00, 0.0000e+00,  ..., 0.0000e+00, 2.9380e-30,\n",
       "         1.0000e+00],\n",
       "        [0.0000e+00, 0.0000e+00, 0.0000e+00,  ..., 0.0000e+00, 1.6042e-28,\n",
       "         1.0000e+00],\n",
       "        ...,\n",
       "        [0.0000e+00, 1.0000e+00, 8.7578e-27,  ..., 0.0000e+00, 0.0000e+00,\n",
       "         0.0000e+00],\n",
       "        [0.0000e+00, 1.0000e+00, 1.6042e-28,  ..., 0.0000e+00, 0.0000e+00,\n",
       "         0.0000e+00],\n",
       "        [0.0000e+00, 1.0000e+00, 2.9380e-30,  ..., 0.0000e+00, 0.0000e+00,\n",
       "         0.0000e+00]])"
      ]
     },
     "execution_count": 665,
     "metadata": {},
     "output_type": "execute_result"
    }
   ],
   "source": [
    "probs[0,0]"
   ]
  },
  {
   "cell_type": "code",
   "execution_count": null,
   "id": "6cc21071",
   "metadata": {},
   "outputs": [],
   "source": []
  }
 ],
 "metadata": {
  "kernelspec": {
   "display_name": "Python 3 (ipykernel)",
   "language": "python",
   "name": "python3"
  },
  "language_info": {
   "codemirror_mode": {
    "name": "ipython",
    "version": 3
   },
   "file_extension": ".py",
   "mimetype": "text/x-python",
   "name": "python",
   "nbconvert_exporter": "python",
   "pygments_lexer": "ipython3",
   "version": "3.8.10"
  }
 },
 "nbformat": 4,
 "nbformat_minor": 5
}
